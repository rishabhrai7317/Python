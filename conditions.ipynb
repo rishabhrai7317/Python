{
 "cells": [
  {
   "cell_type": "code",
   "execution_count": 2,
   "metadata": {},
   "outputs": [
    {
     "name": "stdout",
     "output_type": "stream",
     "text": [
      "a is less than b\n",
      "a is less than c\n",
      "b is less than c\n",
      "c is greater than b\n"
     ]
    }
   ],
   "source": [
    "a = 5\n",
    "b = 10\n",
    "c = 15\n",
    "if a<b:\n",
    "    print(\"a is less than b\")\n",
    "if a<c:\n",
    "    print(\"a is less than c\")\n",
    "if b<c:\n",
    "    print(\"b is less than c\")\n",
    "if c>b:\n",
    "    print(\"c is greater than b\")\n",
    "if c<a:\n",
    "    print(\"c is less than a\")    "
   ]
  },
  {
   "cell_type": "code",
   "execution_count": 6,
   "metadata": {},
   "outputs": [
    {
     "name": "stdout",
     "output_type": "stream",
     "text": [
      "nothing is true\n"
     ]
    }
   ],
   "source": [
    "a = 5\n",
    "b = 10\n",
    "c = 15\n",
    "if a>b:\n",
    "    print(\"a is less than b\")\n",
    "elif a>c:\n",
    "    print(\"a is less than c\")\n",
    "elif b>c:\n",
    "    print(\"b is less than c\")\n",
    "elif c<b:\n",
    "    print(\"c is greater than b\")\n",
    "elif c<a:\n",
    "    print(\"c is less than a\")\n",
    "else:\n",
    "    print(\"nothing is true\")     "
   ]
  },
  {
   "cell_type": "code",
   "execution_count": 7,
   "metadata": {},
   "outputs": [
    {
     "name": "stdout",
     "output_type": "stream",
     "text": [
      "a is less than b\n"
     ]
    }
   ],
   "source": [
    "a = 5\n",
    "b = 10\n",
    "c = 15\n",
    "if a<b:\n",
    "    print(\"a is less than b\")\n",
    "elif a<c:\n",
    "    print(\"a is less than c\")\n",
    "elif b<c:\n",
    "    print(\"b is less than c\")\n",
    "elif c>b:\n",
    "    print(\"c is greater than b\")\n",
    "elif c<a:\n",
    "    print(\"c is less than a\")\n",
    "else:\n",
    "    print(\"nothing is true\")     "
   ]
  },
  {
   "cell_type": "code",
   "execution_count": 9,
   "metadata": {},
   "outputs": [
    {
     "name": "stdout",
     "output_type": "stream",
     "text": [
      "false condition\n"
     ]
    }
   ],
   "source": [
    "a = 5\n",
    "b = 10\n",
    "if a>b:\n",
    "    print(\"a is greater than b\")\n",
    "else:\n",
    "    print(\"false condition\")"
   ]
  },
  {
   "cell_type": "code",
   "execution_count": 13,
   "metadata": {},
   "outputs": [
    {
     "name": "stdout",
     "output_type": "stream",
     "text": [
      "odd\n"
     ]
    }
   ],
   "source": [
    "a = int(input(\"Enter a number:\"))\n",
    "if a%2==0:\n",
    "    print(\"even number\")\n",
    "else:\n",
    "    print(\"odd\")    "
   ]
  },
  {
   "cell_type": "code",
   "execution_count": 15,
   "metadata": {},
   "outputs": [
    {
     "name": "stdout",
     "output_type": "stream",
     "text": [
      "negative number\n"
     ]
    }
   ],
   "source": [
    "a  = int(input(\"Enter a number:\"))\n",
    "if a>=0:\n",
    "    print(\"positive number\")\n",
    "else:\n",
    "    print(\"negative number\")"
   ]
  },
  {
   "cell_type": "code",
   "execution_count": 17,
   "metadata": {},
   "outputs": [
    {
     "name": "stdout",
     "output_type": "stream",
     "text": [
      "Success\n"
     ]
    }
   ],
   "source": [
    "username=input(\"Enter your username:\")\n",
    "email=input(\"Enter your email:\")\n",
    "pwd=input(\"Enter your password:\")\n",
    "pwd2=input(\"Enter your password again:\")\n",
    "if len(username)>=4 and len(username)<=15:\n",
    "    if'@' in email and email.islower() and len(email)>10:\n",
    "        if len(pwd)>=6 and pwd!=username:\n",
    "            if pwd==pwd2:\n",
    "                print(\"Success\")\n",
    "            else:\n",
    "                print(\"Password doesn't match:\")\n",
    "        else:\n",
    "            print(\"Password is invalid:\")\n",
    "    else:\n",
    "        print(\"Email is invalid:\")\n",
    "else:\n",
    "    print(\"Username is invalid:\")                        "
   ]
  },
  {
   "cell_type": "code",
   "execution_count": 23,
   "metadata": {},
   "outputs": [
    {
     "name": "stdout",
     "output_type": "stream",
     "text": [
      "He can vote:\n"
     ]
    }
   ],
   "source": [
    "a=int(input(\"Enter your age:\"))\n",
    "if a>=18:\n",
    "    print(\"He can vote:\")\n",
    "else:\n",
    "    print(\"He can not vote:\")"
   ]
  },
  {
   "cell_type": "code",
   "execution_count": 27,
   "metadata": {},
   "outputs": [
    {
     "name": "stdout",
     "output_type": "stream",
     "text": [
      "IT\n"
     ]
    }
   ],
   "source": [
    "a=int(input(\"Enter your side:\"))\n",
    "b=int(input(\"Enter your side:\"))\n",
    "c=int(input(\"Enter your side:\"))\n",
    "if a==b==c:\n",
    "    print(\"ET\")\n",
    "elif a==b or b==c or a==c:\n",
    "    print(\"IT\")\n",
    "else:\n",
    "    print(\"ST\")"
   ]
  }
 ],
 "metadata": {
  "kernelspec": {
   "display_name": "base",
   "language": "python",
   "name": "python3"
  },
  "language_info": {
   "codemirror_mode": {
    "name": "ipython",
    "version": 3
   },
   "file_extension": ".py",
   "mimetype": "text/x-python",
   "name": "python",
   "nbconvert_exporter": "python",
   "pygments_lexer": "ipython3",
   "version": "3.10.10"
  },
  "orig_nbformat": 4
 },
 "nbformat": 4,
 "nbformat_minor": 2
}
